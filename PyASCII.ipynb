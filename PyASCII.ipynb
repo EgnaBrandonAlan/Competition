{
  "nbformat": 4,
  "nbformat_minor": 0,
  "metadata": {
    "colab": {
      "provenance": [],
      "authorship_tag": "ABX9TyML1kRFQ4owvKL/kZIq0F/K",
      "include_colab_link": true
    },
    "kernelspec": {
      "name": "python3",
      "display_name": "Python 3"
    },
    "language_info": {
      "name": "python"
    }
  },
  "cells": [
    {
      "cell_type": "markdown",
      "metadata": {
        "id": "view-in-github",
        "colab_type": "text"
      },
      "source": [
        "<a href=\"https://colab.research.google.com/github/EgnaBrandonAlan/Competition/blob/main/PyASCII.ipynb\" target=\"_parent\"><img src=\"https://colab.research.google.com/assets/colab-badge.svg\" alt=\"Open In Colab\"/></a>"
      ]
    },
    {
      "cell_type": "markdown",
      "source": [
        "# **The chr() Function**\n",
        "---\n",
        "The chr() function in Python returns a string which is represented by an integer Unicode code point passed as an argument.\n",
        "\n",
        "The valid range to use in chr() is [0, 1114111]\n",
        "\n",
        "Unicode code points for letters are the same as ASCII codes for them."
      ],
      "metadata": {
        "id": "FcTikkYbpQ_E"
      }
    },
    {
      "cell_type": "code",
      "execution_count": null,
      "metadata": {
        "colab": {
          "base_uri": "https://localhost:8080/"
        },
        "id": "n1aEV_tvpQAj",
        "outputId": "10faf967-1d3e-415f-dac2-5d53a12a67ca"
      },
      "outputs": [
        {
          "output_type": "stream",
          "name": "stdout",
          "text": [
            "A\n",
            "€\n"
          ]
        }
      ],
      "source": [
        "# Syntax: chr(integer)\n",
        "\n",
        "string = chr(65)\n",
        "euro = chr(8364)\n",
        "\n",
        "print(string)\n",
        "print(euro)"
      ]
    },
    {
      "cell_type": "markdown",
      "source": [
        "# **The ord() Function**\n",
        "---\n",
        "The ord() function in Python returns an integer Unicode code point which represents a string passed as an argument: the opposite of chr()."
      ],
      "metadata": {
        "id": "DiFvoiIbqQ7h"
      }
    },
    {
      "cell_type": "code",
      "source": [
        "# Syntax: ord(\"string\")\n",
        "\n",
        "string = ord('A')\n",
        "euro = ord('€')\n",
        "\n",
        "print(string)\n",
        "print(euro)"
      ],
      "metadata": {
        "colab": {
          "base_uri": "https://localhost:8080/"
        },
        "id": "1CSvJY72qTws",
        "outputId": "34d169f9-b168-4e7c-b755-57d06d153ec2"
      },
      "execution_count": null,
      "outputs": [
        {
          "output_type": "stream",
          "name": "stdout",
          "text": [
            "65\n",
            "8364\n"
          ]
        }
      ]
    },
    {
      "cell_type": "markdown",
      "source": [
        "# **The join() Function**\n",
        "---\n",
        "The join() function in Python joins any iterarble, such as lists, tuples, or dictionaries (keys, not values), separating them by a chosen separator.\n",
        "\n",
        "It returns a single new string."
      ],
      "metadata": {
        "id": "7zwFdMOyslIn"
      }
    },
    {
      "cell_type": "code",
      "source": [
        "# Syntax: \"string\".join(iterable)\n",
        "\n",
        "# Join a tuple with no separator, all on one line\n",
        "string = \"\".join((\"Hello\", \",\", \" \", \"World\", \"!\"))\n",
        "\n",
        "# Create a new variable for the joined list, separated by #\n",
        "list1 = [\"Cats\", \"Dogs\"]\n",
        "string2 = \"#\".join(list1)\n",
        "\n",
        "print(string)\n",
        "print(string2)"
      ],
      "metadata": {
        "colab": {
          "base_uri": "https://localhost:8080/"
        },
        "id": "tmriBfY3vtJQ",
        "outputId": "8968117a-e8af-4ad5-8d98-dc48fc34a1ff"
      },
      "execution_count": null,
      "outputs": [
        {
          "output_type": "stream",
          "name": "stdout",
          "text": [
            "Hello, World!\n",
            "Cats#Dogs\n"
          ]
        }
      ]
    },
    {
      "cell_type": "markdown",
      "source": [
        "# **Generator Functions**\n",
        "---\n",
        "A generator function is a special type of function that returns an iterator object. Instead of using return to send back a single value, generator functions use yield to produce a series of results over time.\n",
        "\n",
        "This allows the function to generate values and pause its execution after each yield, maintaining its state between iterations.\n",
        "\n",
        "The yield statement is used in a generator function to return a value and pause the function’s execution, preserving its state. When next() is called on the generator, execution resumes right after the yield."
      ],
      "metadata": {
        "id": "jyb7j-eIxTPA"
      }
    },
    {
      "cell_type": "code",
      "source": [
        "# Long Forms\n",
        "\n",
        "def generator(range):\n",
        "  cnt = 1\n",
        "  while cnt <= range:\n",
        "      yield cnt\n",
        "      cnt += 1\n",
        "\n",
        "# Set Values\n",
        "\n",
        "def generator2():\n",
        "  yield 1\n",
        "  yield 2\n",
        "  yield 3\n",
        "\n",
        "# Use the code below to obtain values from whichever long form generator\n",
        "\n",
        "gen1 = generator(3)\n",
        "counter = generator(3)\n",
        "for n in counter:\n",
        "  print(n)\n",
        "\n",
        "print(\"~~~~~~~~~~~~~~~~\")\n",
        "\n",
        "for val in generator2():\n",
        "  print(val)\n",
        "\n",
        "print(\"~~~~~~~~~~~~~~~~\")\n",
        "\n",
        "# Short Form\n",
        "\n",
        "gen3 = (x+1 for x in range(0, 3))\n",
        "\n",
        "# Use the code below to obtain values from the short form generator\n",
        "for i in gen3:\n",
        "  print(i)\n",
        "\n",
        "print(\"~~~~~~~~~~~~~~~~\")\n",
        "\n",
        "# You cannot directly print the generator function, since it only produces\n",
        "# values one by one as needed. It will spit out a generator object.\n",
        "print(gen1)\n",
        "print(generator2())\n",
        "print(gen3)\n",
        "\n",
        "print(\"~~~~~~~~~~~~~~~~\")\n",
        "\n",
        "# You can print the values by converting it to a list, using a loop (as shown\n",
        "# before), or using join() in the case of strings.\n",
        "\n",
        "# Using a list\n",
        "\n",
        "gen_list = list(generator(3))\n",
        "print(gen_list)\n",
        "for number in gen_list:\n",
        "  print(number)\n",
        "\n",
        "print(\"~~~~~~~~~~~~~~~~\")\n",
        "\n",
        "# Using join() for strings. In this case, convert every character to \"a\"\n",
        "\n",
        "def gen_string(string):\n",
        "  string = \"\".join(\"a\" for c in string)\n",
        "  return string\n",
        "print(gen_string(\"Hello, World!\"))\n",
        "\n",
        "print(\"~~~~~~~~~~~~~~~~\")\n",
        "\n",
        "# Use next() to obtain the next value in the generator. The last value it\n",
        "# printed was 3, so it will wrap back to 1.\n",
        "print(next(gen1))"
      ],
      "metadata": {
        "colab": {
          "base_uri": "https://localhost:8080/"
        },
        "id": "HthR_bzVxpEK",
        "outputId": "e073428a-58bb-4b3f-c838-1ae9534d5e1a"
      },
      "execution_count": 10,
      "outputs": [
        {
          "output_type": "stream",
          "name": "stdout",
          "text": [
            "1\n",
            "2\n",
            "3\n",
            "~~~~~~~~~~~~~~~~\n",
            "1\n",
            "2\n",
            "3\n",
            "~~~~~~~~~~~~~~~~\n",
            "1\n",
            "2\n",
            "3\n",
            "~~~~~~~~~~~~~~~~\n",
            "<generator object generator at 0x7e81ce3cdd80>\n",
            "<generator object generator2 at 0x7e81ce3fc3b0>\n",
            "<generator object <genexpr> at 0x7e81ce3cd7d0>\n",
            "~~~~~~~~~~~~~~~~\n",
            "[1, 2, 3]\n",
            "1\n",
            "2\n",
            "3\n",
            "~~~~~~~~~~~~~~~~\n",
            "aaaaaaaaaaaaa\n",
            "~~~~~~~~~~~~~~~~\n",
            "1\n"
          ]
        }
      ]
    },
    {
      "cell_type": "markdown",
      "source": [
        "# **Combining chr(), ord(), join(), and generator functions to edit ASCII in Python**\n",
        "\n",
        "---\n",
        "\n",
        "In Python, strings are immutable. This means you cannot directly edit ASCII values to change a character in a string like you can in C by doing something such as adding.\n",
        "\n",
        "However, you are able to use the chr(), ord(), join(), and generator functions to edit ASCII values in Python, just like you can in C.\n",
        "\n",
        "The following code shows how."
      ],
      "metadata": {
        "id": "w7MtiIYdeMNt"
      }
    },
    {
      "cell_type": "code",
      "source": [
        "# Function to increase ASCII value.\n",
        "def str_inc(string):\n",
        "  # Change the string to the incremented version by the following steps:\n",
        "  # 1. Obtain the ASCII value using ord(), and add 1 to increment\n",
        "  # 2. Return the incremented character by using chr() on the incremented ASCII\n",
        "  # 3. Steps 1 and 2 are included in a generator function which does this for\n",
        "  #    each letter in the string\n",
        "  # 4. Join each of the incremented characters using join()\n",
        "  # 5. Return the new, incremented string\n",
        "  string = \"\".join(chr(ord(c) + 1) for c in string)\n",
        "  return string\n",
        "\n",
        "# Function to decrease ASCII value.\n",
        "def str_dec(string):\n",
        "  string = \"\".join(chr(ord(c) - 1) for c in string)\n",
        "  return string\n",
        "\n",
        "# Function to increase ASCII value in specified range.\n",
        "def str_inc_rng(string, lower, upper):\n",
        "  # For incrementing within a certain range, you must first convert the string\n",
        "  # to a list in order to access specific characters.\n",
        "  string = list(string)\n",
        "  for i in range(lower, upper + 1):\n",
        "    # Loop through each character and change it\n",
        "      string[i] = chr(ord(string[i]) + 1)\n",
        "  return \"\".join(string)\n",
        "\n",
        "# Function to decrease ASCII value in specified range.\n",
        "def str_dec_rng(string, lower, upper):\n",
        "  string = list(string)\n",
        "  for i in range(lower, upper + 1):\n",
        "      string[i] = chr(ord(string[i]) - 1)\n",
        "  return \"\".join(string)\n",
        "\n",
        "# For Example:\n",
        "\n",
        "word = \"abcdef\"\n",
        "\n",
        "# Increase ASCII value of every character by 1\n",
        "print(str_inc(word))\n",
        "print(\"~~~~~~~~~~~~~~~~\")\n",
        "\n",
        "# Decrease ASCII value of every character by 1\n",
        "print(str_dec(word))\n",
        "print(\"~~~~~~~~~~~~~~~~\")\n",
        "\n",
        "# Increase ASCII value of character 1 through character 4 (inclusive)\n",
        "print(str_inc_rng(word, 1, 4))\n",
        "print(\"~~~~~~~~~~~~~~~~\")\n",
        "\n",
        "# Decrease ASCII value of character 2 through 5 (inclusive)\n",
        "print(str_dec_rng(word, 2, 5))\n",
        "print(\"~~~~~~~~~~~~~~~~\")\n",
        "\n",
        "# You may also make a new parameter to increment by a different number\n",
        "def str_inc_choose(string, shift):\n",
        "  string = \"\".join(chr(ord(c) + shift) for c in string)\n",
        "  return string\n",
        "\n",
        "print(str_inc_choose(word, 3))"
      ],
      "metadata": {
        "colab": {
          "base_uri": "https://localhost:8080/"
        },
        "id": "rScTENuK03Tp",
        "outputId": "bcfb6d73-d5b6-4ddd-a0db-316e7bc919cc"
      },
      "execution_count": 16,
      "outputs": [
        {
          "output_type": "stream",
          "name": "stdout",
          "text": [
            "bcdefg\n",
            "~~~~~~~~~~~~~~~~\n",
            "`abcde\n",
            "~~~~~~~~~~~~~~~~\n",
            "acdeff\n",
            "~~~~~~~~~~~~~~~~\n",
            "abbcde\n",
            "~~~~~~~~~~~~~~~~\n",
            "defghi\n"
          ]
        }
      ]
    },
    {
      "cell_type": "markdown",
      "source": [
        "# **Working with ASCII and Letters**\n",
        "\n",
        "---\n",
        "\n",
        "Sometimes, you may encounter a problem which requires you to use ASCII to edit letters. However, as shown above, the functions given will increase or decrease the ASCII value no matter what, without wrapping back around the alphabet.\n",
        "\n",
        "For this, you will need to edit the function to make it so a and z wrap around. You will need to know the ASCII values of a, z, A, and Z."
      ],
      "metadata": {
        "id": "Ywoje1nKhTpP"
      }
    },
    {
      "cell_type": "code",
      "source": [
        "def str_inc_letter(string):\n",
        "  # Add conditionals to the generator function to wrap z and Z around back to a\n",
        "  # and A.\n",
        "  string = \"\".join(chr(97) if ord(c) == 122 else (chr(65) if ord(c) == 90 else chr(ord(c) + 1)) for c in string)\n",
        "  return string\n",
        "\n",
        "def str_dec_letter(string):\n",
        "  string = \"\".join(chr(122) if ord(c) == 97 else (chr(90) if ord(c) == 65 else chr(ord(c) - 1)) for c in string)\n",
        "  return string\n",
        "\n",
        "def str_inc_rng_letter(string, lower, upper):\n",
        "  string = list(string)\n",
        "  for i in range(lower, upper + 1):\n",
        "      if ord(string[i]) == 122:\n",
        "          string[i] = chr(97)\n",
        "      elif ord(string[i]) == 90:\n",
        "          string[i] = chr(65)\n",
        "      else:\n",
        "          string[i] = chr(ord(string[i]) + 1)\n",
        "  return \"\".join(string)\n",
        "\n",
        "def str_dec_rng_letter(string, lower, upper):\n",
        "  string = list(string)\n",
        "  for i in range(lower, upper + 1):\n",
        "      if ord(string[i]) == 97:\n",
        "          string[i] = chr(122)\n",
        "      elif ord(string[i]) == 65:\n",
        "          string[i] = chr(90)\n",
        "      else:\n",
        "          string[i] = chr(ord(string[i]) - 1)\n",
        "  return \"\".join(string)\n",
        "\n",
        "print(str_inc_letter(\"ZzAabCdEf\"))\n",
        "print(str_dec_letter(\"ZzAabCdEf\"))"
      ],
      "metadata": {
        "colab": {
          "base_uri": "https://localhost:8080/"
        },
        "id": "RL2dPF2thzi9",
        "outputId": "6426ac22-cff5-4c9d-f618-c4297e0bf86b"
      },
      "execution_count": 28,
      "outputs": [
        {
          "output_type": "stream",
          "name": "stdout",
          "text": [
            "AaBbcDeFg\n",
            "YyZzaBcDe\n"
          ]
        }
      ]
    }
  ]
}